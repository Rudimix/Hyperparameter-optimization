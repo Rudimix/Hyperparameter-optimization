{
 "cells": [
  {
   "cell_type": "code",
   "execution_count": 509,
   "metadata": {},
   "outputs": [],
   "source": [
    "from sklearn.datasets import load_iris\n",
    "from sklearn.neighbors import KNeighborsClassifier\n",
    "from sklearn.model_selection import RandomizedSearchCV\n",
    "from sklearn.model_selection import GridSearchCV\n",
    "from sklearn.model_selection import train_test_split\n",
    "import matplotlib.pyplot as plt\n",
    "import time"
   ]
  },
  {
   "cell_type": "code",
   "execution_count": 510,
   "metadata": {},
   "outputs": [],
   "source": [
    "# Загрузка данных\n",
    "iris = load_iris()\n",
    "X, y = iris.data, iris.target"
   ]
  },
  {
   "cell_type": "code",
   "execution_count": 511,
   "metadata": {},
   "outputs": [],
   "source": [
    "# Разделение на обучающую и тестовую выборки\n",
    "X_train, X_test, y_train, y_test = train_test_split(X, y, test_size=0.2, random_state=42)"
   ]
  },
  {
   "cell_type": "code",
   "execution_count": 512,
   "metadata": {},
   "outputs": [],
   "source": [
    "# Создание модели kNN\n",
    "model = KNeighborsClassifier()"
   ]
  },
  {
   "cell_type": "code",
   "execution_count": 513,
   "metadata": {},
   "outputs": [],
   "source": [
    "# Определение диапазонов гиперпараметров\n",
    "params = {\n",
    "    \"n_neighbors\": range(1,50),\n",
    "    \"leaf_size\": range(1,46),\n",
    "    \"p\": range(1,10)\n",
    "}"
   ]
  },
  {
   "cell_type": "code",
   "execution_count": 514,
   "metadata": {},
   "outputs": [],
   "source": [
    "# Создание объекта RandomizedSearchCV\n",
    "start=time.time()\n",
    "random_search = RandomizedSearchCV(model, param_distributions=params, cv=5, n_iter=100,n_jobs=-1)\n",
    "random_search_res = random_search.fit(X_train, y_train)\n",
    "print(f'Время на работу Random Search: {time.time()-start}')"
   ]
  },
  {
   "cell_type": "code",
   "execution_count": 515,
   "metadata": {},
   "outputs": [],
   "source": [
    "# Создание объекта GridSearchCV\n",
    "start=time.time()\n",
    "grid_search = GridSearchCV(estimator=model, param_grid=params, cv=5,n_jobs=-1)\n",
    "grid_search_res = grid_search.fit(X_train, y_train)\n",
    "print(f'Время на работу Grid Search: {time.time()-start}')"
   ]
  },
  {
   "cell_type": "code",
   "execution_count": 516,
   "metadata": {},
   "outputs": [
    {
     "name": "stdout",
     "output_type": "stream",
     "text": [
      "Best Score: 0.975\n",
      "Best Params: {'p': 6, 'n_neighbors': 5, 'leaf_size': 20}\n"
     ]
    }
   ],
   "source": [
    "# Вывод результатов\n",
    "print(\"Best Score:\", random_search_res.best_score_)\n",
    "print(\"Best Params:\", random_search_res.best_params_)"
   ]
  },
  {
   "cell_type": "code",
   "execution_count": 517,
   "metadata": {},
   "outputs": [
    {
     "name": "stdout",
     "output_type": "stream",
     "text": [
      "Best Score: 0.975\n",
      "Best Params: {'leaf_size': 1, 'n_neighbors': 5, 'p': 4}\n"
     ]
    }
   ],
   "source": [
    "# Вывод результатов\n",
    "print(\"Best Score:\", grid_search_res.best_score_)\n",
    "print(\"Best Params:\", grid_search_res.best_params_)"
   ]
  },
  {
   "cell_type": "code",
   "execution_count": 548,
   "metadata": {},
   "outputs": [],
   "source": [
    "GStimes = []\n",
    "\n",
    "for i in range(1000):\n",
    "    kNN = KNeighborsClassifier(**grid_search_res.best_params_)\n",
    "    kNN.fit(X_test, y_test)\n",
    "    GStimes.append(kNN.score(X_test, y_test))\n",
    "    end = time.time()\n"
   ]
  },
  {
   "cell_type": "code",
   "execution_count": 549,
   "metadata": {},
   "outputs": [],
   "source": [
    "RStimes = []\n",
    "\n",
    "for i in range(1000):\n",
    "    kNN = KNeighborsClassifier(**random_search_res.best_params_)\n",
    "    kNN.fit(X_test, y_test)\n",
    "    RStimes.append(kNN.score(X_test, y_test))"
   ]
  },
  {
   "cell_type": "code",
   "execution_count": 550,
   "metadata": {},
   "outputs": [
    {
     "data": {
      "image/png": "[encoded data removed]",
      "text/plain": [
       "<Figure size 800x600 with 1 Axes>"
      ]
     },
     "metadata": {},
     "output_type": "display_data"
    }
   ],
   "source": [
    "plt.figure(figsize=(8, 6))\n",
    "\n",
    "plt.boxplot([GStimes, RStimes], positions=[1, 2])  # Первый график в позиции 1, второй график в позиции 2\n",
    "plt.xticks([1, 2], ['GridSearch', 'RandomSearch'])  # Устанавливаем подписи по оси X\n",
    "\n",
    "plt.show()"
   ]
  }
 ],
 "metadata": {
  "kernelspec": {
   "display_name": "Python 3",
   "language": "python",
   "name": "python3"
  },
  "language_info": {
   "codemirror_mode": {
    "name": "ipython",
    "version": 3
   },
   "file_extension": ".py",
   "mimetype": "text/x-python",
   "name": "python",
   "nbconvert_exporter": "python",
   "pygments_lexer": "ipython3",
   "version": "3.10.6"
  }
 },
 "nbformat": 4,
 "nbformat_minor": 2
}
